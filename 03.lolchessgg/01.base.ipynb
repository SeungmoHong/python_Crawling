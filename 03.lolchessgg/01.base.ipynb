{
 "metadata": {
  "language_info": {
   "codemirror_mode": {
    "name": "ipython",
    "version": 3
   },
   "file_extension": ".py",
   "mimetype": "text/x-python",
   "name": "python",
   "nbconvert_exporter": "python",
   "pygments_lexer": "ipython3",
   "version": "3.8.5"
  },
  "orig_nbformat": 2,
  "kernelspec": {
   "name": "python385jvsc74a57bd0c0d5580a4e4b3d156e9f2f74585f52a17152e2e761e06671a15aac4fe32d0ddb",
   "display_name": "Python 3.8.5 64-bit ('base': conda)"
  }
 },
 "nbformat": 4,
 "nbformat_minor": 2,
 "cells": [
  {
   "source": [
    "# 롤체지지 크롤링"
   ],
   "cell_type": "markdown",
   "metadata": {}
  },
  {
   "cell_type": "code",
   "execution_count": 1,
   "metadata": {},
   "outputs": [],
   "source": [
    "# import\n",
    "import time\n",
    "from selenium import webdriver\n",
    "from selenium.webdriver.common.keys import Keys\n",
    "import pandas as pd"
   ]
  },
  {
   "cell_type": "code",
   "execution_count": 2,
   "metadata": {},
   "outputs": [],
   "source": [
    "driver = webdriver.Chrome('../chromedriver')\n",
    "driver.maximize_window()\n",
    "driver.get('https://lolchess.gg/meta') # 롤체지지 메타\n",
    "time.sleep(1)"
   ]
  },
  {
   "cell_type": "code",
   "execution_count": 3,
   "metadata": {},
   "outputs": [
    {
     "output_type": "execute_result",
     "data": {
      "text/plain": [
       "'척후병 용 사냥꾼'"
      ]
     },
     "metadata": {},
     "execution_count": 3
    }
   ],
   "source": [
    "driver.find_elements_by_class_name('guide-meta__deck__column.name.mr-3')[0].text.split('\\n')[0] # 시너지"
   ]
  },
  {
   "cell_type": "code",
   "execution_count": 4,
   "metadata": {},
   "outputs": [
    {
     "output_type": "execute_result",
     "data": {
      "text/plain": [
       "['$2', '$2', '$3', '$3', '$4', '$4', '$4', '$5']"
      ]
     },
     "metadata": {},
     "execution_count": 4
    }
   ],
   "source": [
    "driver.find_elements_by_class_name('guide-meta__deck__column.champions.mr-2')[0].text.split('\\n') # 코스트 "
   ]
  },
  {
   "cell_type": "code",
   "execution_count": 5,
   "metadata": {},
   "outputs": [
    {
     "output_type": "execute_result",
     "data": {
      "text/plain": [
       "''"
      ]
     },
     "metadata": {},
     "execution_count": 5
    }
   ],
   "source": [
    "driver.find_element_by_xpath('//*[@id=\"wrapper\"]/div/div[5]/div[2]/div[3]/div[1]/div/div[3]/div[1]/div[1]/span[2]').text # 챔피언 이름이 나오지 않는다."
   ]
  },
  {
   "source": [
    "### bs4와 함께 사용"
   ],
   "cell_type": "markdown",
   "metadata": {}
  },
  {
   "cell_type": "code",
   "execution_count": 6,
   "metadata": {},
   "outputs": [],
   "source": [
    "from bs4 import BeautifulSoup\n",
    "import urllib.request\n",
    "import pandas as pd\n",
    "import re"
   ]
  },
  {
   "cell_type": "code",
   "execution_count": 7,
   "metadata": {},
   "outputs": [],
   "source": [
    "html = driver.page_source"
   ]
  },
  {
   "cell_type": "code",
   "execution_count": 8,
   "metadata": {},
   "outputs": [],
   "source": [
    "soup = BeautifulSoup(html, 'html.parser')"
   ]
  },
  {
   "cell_type": "code",
   "execution_count": 9,
   "metadata": {},
   "outputs": [
    {
     "output_type": "execute_result",
     "data": {
      "text/plain": [
       "[<span class=\"name\">트런들</span>,\n",
       " <span class=\"name\">케넨</span>,\n",
       " <span class=\"name\">리 신</span>,\n",
       " <span class=\"name\">판테온</span>,\n",
       " <span class=\"name\">다이애나</span>,\n",
       " <span class=\"name\">모데카이저</span>,\n",
       " <span class=\"name\">잭스</span>,\n",
       " <span class=\"name\">비에고</span>]"
      ]
     },
     "metadata": {},
     "execution_count": 9
    }
   ],
   "source": [
    "soup.find_all('div', {'class' : 'guide-meta__deck__column champions mr-2'})[0].find_all('span', {'class':\"name\"})"
   ]
  },
  {
   "cell_type": "code",
   "execution_count": 10,
   "metadata": {},
   "outputs": [],
   "source": [
    "deck = driver.find_elements_by_class_name('guide-meta__deck__column.name.mr-3')\n",
    "champion = soup.find_all('div', {'class' : 'guide-meta__deck__column champions mr-2'})"
   ]
  },
  {
   "cell_type": "code",
   "execution_count": 11,
   "metadata": {},
   "outputs": [],
   "source": [
    "decks,  champions = [], []\n",
    "for i,k in enumerate(deck):\n",
    "    synergy = deck[i].text.split('\\n')[0]\n",
    "    champ = soup.find_all('div', {'class' : 'guide-meta__deck__column champions mr-2'})[i].find_all('span', {'class':\"name\"})\n",
    "    champs = []\n",
    "    for c in champ:\n",
    "        cham = c.text\n",
    "        champs.append(cham)\n",
    "    decks.append(synergy)\n",
    "    champions.append(champs)"
   ]
  },
  {
   "cell_type": "code",
   "execution_count": 12,
   "metadata": {},
   "outputs": [
    {
     "output_type": "execute_result",
     "data": {
      "text/plain": [
       "                덱                                               챔피언\n",
       "0       척후병 용 사냥꾼         [트런들, 케넨, 리 신, 판테온, 다이애나, 모데카이저, 잭스, 비에고]\n",
       "1       신비의 기사 케일         [노틸러스, 쓰레쉬, 럭스, 라이즈, 렐, 타릭, 가렌, 케일, 킨드레드]\n",
       "2          척후병 철갑       [케넨, 노틸러스, 트런들, 니달리, 판테온, 렐, 잭스, 다리우스, 비에고]\n",
       "3   용 사냥꾼 어둠의 인도자       [트런들, 룰루, 리 신, 모르가나, 야스오, 판테온, 다이애나, 모데카이저]\n",
       "4       괴생명체 주문술사         [빅토르, 브랜드, 누누와 윌럼프, 럭스, 자이라, 라이즈, 렐, 벨코즈]\n",
       "5      빛의 인도자 카르마         [그라가스, 카직스, 소라카, 니달리, 아이번, 카르마, 가렌, 볼리베어]\n",
       "6          고벨류 악동     [뽀삐, 클레드, 케넨, 룰루, 아이번, 볼리베어, 킨드레드, 티모, 하이머딩거]\n",
       "7          망령 암살자        [카직스, 르블랑, 녹턴, 카타리나, 다이애나, 아이번, 볼리베어, 비에고]\n",
       "8        악의여단 암살자      [리산드라, 르블랑, 녹턴, 모르가나, 카타리나, 다이애나, 아이번, 볼리베어]\n",
       "9           망각 베인            [베인, 빅토르, 쓰레쉬, 헤카림, 라이즈, 렐, 비에고, 킨드레드]\n",
       "10          용족 벨류        [우디르, 세트, 애쉬, 자이라, 아이번, 볼리베어, 킨드레드, 하이머딩거]\n",
       "11       군단 용 사냥꾼  [아트록스, 트런들, 리븐, 야스오, 판테온, 다이애나, 드레이븐, 모데카이저, 케일]\n",
       "12       8 빛의 인도자     [카직스, 그라가스, 소라카, 니달리, 리븐, 아이번, 카르마, 가렌, 볼리베어]"
      ],
      "text/html": "<div>\n<style scoped>\n    .dataframe tbody tr th:only-of-type {\n        vertical-align: middle;\n    }\n\n    .dataframe tbody tr th {\n        vertical-align: top;\n    }\n\n    .dataframe thead th {\n        text-align: right;\n    }\n</style>\n<table border=\"1\" class=\"dataframe\">\n  <thead>\n    <tr style=\"text-align: right;\">\n      <th></th>\n      <th>덱</th>\n      <th>챔피언</th>\n    </tr>\n  </thead>\n  <tbody>\n    <tr>\n      <th>0</th>\n      <td>척후병 용 사냥꾼</td>\n      <td>[트런들, 케넨, 리 신, 판테온, 다이애나, 모데카이저, 잭스, 비에고]</td>\n    </tr>\n    <tr>\n      <th>1</th>\n      <td>신비의 기사 케일</td>\n      <td>[노틸러스, 쓰레쉬, 럭스, 라이즈, 렐, 타릭, 가렌, 케일, 킨드레드]</td>\n    </tr>\n    <tr>\n      <th>2</th>\n      <td>척후병 철갑</td>\n      <td>[케넨, 노틸러스, 트런들, 니달리, 판테온, 렐, 잭스, 다리우스, 비에고]</td>\n    </tr>\n    <tr>\n      <th>3</th>\n      <td>용 사냥꾼 어둠의 인도자</td>\n      <td>[트런들, 룰루, 리 신, 모르가나, 야스오, 판테온, 다이애나, 모데카이저]</td>\n    </tr>\n    <tr>\n      <th>4</th>\n      <td>괴생명체 주문술사</td>\n      <td>[빅토르, 브랜드, 누누와 윌럼프, 럭스, 자이라, 라이즈, 렐, 벨코즈]</td>\n    </tr>\n    <tr>\n      <th>5</th>\n      <td>빛의 인도자 카르마</td>\n      <td>[그라가스, 카직스, 소라카, 니달리, 아이번, 카르마, 가렌, 볼리베어]</td>\n    </tr>\n    <tr>\n      <th>6</th>\n      <td>고벨류 악동</td>\n      <td>[뽀삐, 클레드, 케넨, 룰루, 아이번, 볼리베어, 킨드레드, 티모, 하이머딩거]</td>\n    </tr>\n    <tr>\n      <th>7</th>\n      <td>망령 암살자</td>\n      <td>[카직스, 르블랑, 녹턴, 카타리나, 다이애나, 아이번, 볼리베어, 비에고]</td>\n    </tr>\n    <tr>\n      <th>8</th>\n      <td>악의여단 암살자</td>\n      <td>[리산드라, 르블랑, 녹턴, 모르가나, 카타리나, 다이애나, 아이번, 볼리베어]</td>\n    </tr>\n    <tr>\n      <th>9</th>\n      <td>망각 베인</td>\n      <td>[베인, 빅토르, 쓰레쉬, 헤카림, 라이즈, 렐, 비에고, 킨드레드]</td>\n    </tr>\n    <tr>\n      <th>10</th>\n      <td>용족 벨류</td>\n      <td>[우디르, 세트, 애쉬, 자이라, 아이번, 볼리베어, 킨드레드, 하이머딩거]</td>\n    </tr>\n    <tr>\n      <th>11</th>\n      <td>군단 용 사냥꾼</td>\n      <td>[아트록스, 트런들, 리븐, 야스오, 판테온, 다이애나, 드레이븐, 모데카이저, 케일]</td>\n    </tr>\n    <tr>\n      <th>12</th>\n      <td>8 빛의 인도자</td>\n      <td>[카직스, 그라가스, 소라카, 니달리, 리븐, 아이번, 카르마, 가렌, 볼리베어]</td>\n    </tr>\n  </tbody>\n</table>\n</div>"
     },
     "metadata": {},
     "execution_count": 12
    }
   ],
   "source": [
    "df = pd.DataFrame({\n",
    "    '덱' : decks,\n",
    "    '챔피언' : champions\n",
    "})\n",
    "df"
   ]
  },
  {
   "cell_type": "code",
   "execution_count": null,
   "metadata": {},
   "outputs": [],
   "source": []
  }
 ]
}