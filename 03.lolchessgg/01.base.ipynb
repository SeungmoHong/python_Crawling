{
 "metadata": {
  "language_info": {
   "codemirror_mode": {
    "name": "ipython",
    "version": 3
   },
   "file_extension": ".py",
   "mimetype": "text/x-python",
   "name": "python",
   "nbconvert_exporter": "python",
   "pygments_lexer": "ipython3",
   "version": "3.8.5"
  },
  "orig_nbformat": 2,
  "kernelspec": {
   "name": "python385jvsc74a57bd0c0d5580a4e4b3d156e9f2f74585f52a17152e2e761e06671a15aac4fe32d0ddb",
   "display_name": "Python 3.8.5 64-bit ('hjkl4': virtualenv)"
  }
 },
 "nbformat": 4,
 "nbformat_minor": 2,
 "cells": [
  {
   "source": [
    "# 롤체지지 크롤링"
   ],
   "cell_type": "markdown",
   "metadata": {}
  },
  {
   "cell_type": "code",
   "execution_count": 2,
   "metadata": {},
   "outputs": [],
   "source": [
    "# import\n",
    "import time\n",
    "from selenium import webdriver\n",
    "from selenium.webdriver.common.keys import Keys\n",
    "import pandas as pd"
   ]
  },
  {
   "cell_type": "code",
   "execution_count": 3,
   "metadata": {},
   "outputs": [],
   "source": [
    "driver = webdriver.Chrome('../chromedriver')\n",
    "driver.maximize_window()\n",
    "driver.get('https://lolchess.gg/meta') # 롤체지지 메타\n",
    "time.sleep(1)"
   ]
  },
  {
   "cell_type": "code",
   "execution_count": 4,
   "metadata": {},
   "outputs": [
    {
     "output_type": "execute_result",
     "data": {
      "text/plain": [
       "'망각 베인'"
      ]
     },
     "metadata": {},
     "execution_count": 4
    }
   ],
   "source": [
    "driver.find_elements_by_class_name('guide-meta__deck__column.name.mr-3')[0].text.split('\\n')[0] # 시너지"
   ]
  },
  {
   "cell_type": "code",
   "execution_count": 5,
   "metadata": {},
   "outputs": [
    {
     "output_type": "execute_result",
     "data": {
      "text/plain": [
       "['$1', '$2', '$2', '$2', '$4', '$4', '$5', '$5']"
      ]
     },
     "metadata": {},
     "execution_count": 5
    }
   ],
   "source": [
    "driver.find_elements_by_class_name('guide-meta__deck__column.champions.mr-2')[0].text.split('\\n') # 코스트 "
   ]
  },
  {
   "cell_type": "code",
   "execution_count": 40,
   "metadata": {},
   "outputs": [
    {
     "output_type": "execute_result",
     "data": {
      "text/plain": [
       "''"
      ]
     },
     "metadata": {},
     "execution_count": 40
    }
   ],
   "source": [
    "driver.find_element_by_xpath('//*[@id=\"wrapper\"]/div/div[5]/div[2]/div[3]/div[1]/div/div[3]/div[1]/div[1]/span[2]').text # 챔피언 이름이 나오지 않는다."
   ]
  },
  {
   "source": [
    "### bs4와 함께 사용"
   ],
   "cell_type": "markdown",
   "metadata": {}
  },
  {
   "cell_type": "code",
   "execution_count": 41,
   "metadata": {},
   "outputs": [],
   "source": [
    "from bs4 import BeautifulSoup\n",
    "import urllib.request\n",
    "import pandas as pd\n",
    "import re"
   ]
  },
  {
   "cell_type": "code",
   "execution_count": 42,
   "metadata": {},
   "outputs": [],
   "source": [
    "html = driver.page_source"
   ]
  },
  {
   "cell_type": "code",
   "execution_count": 43,
   "metadata": {},
   "outputs": [],
   "source": [
    "soup = BeautifulSoup(html, 'html.parser')"
   ]
  },
  {
   "cell_type": "code",
   "execution_count": 61,
   "metadata": {},
   "outputs": [
    {
     "output_type": "execute_result",
     "data": {
      "text/plain": [
       "[<span class=\"name\">베인</span>,\n",
       " <span class=\"name\">빅토르</span>,\n",
       " <span class=\"name\">쓰레쉬</span>,\n",
       " <span class=\"name\">헤카림</span>,\n",
       " <span class=\"name\">라이즈</span>,\n",
       " <span class=\"name\">렐</span>,\n",
       " <span class=\"name\">비에고</span>,\n",
       " <span class=\"name\">킨드레드</span>]"
      ]
     },
     "metadata": {},
     "execution_count": 61
    }
   ],
   "source": [
    "soup.find_all('div', {'class' : 'guide-meta__deck__column champions mr-2'})[0].find_all('span', {'class':\"name\"})"
   ]
  },
  {
   "cell_type": "code",
   "execution_count": 64,
   "metadata": {},
   "outputs": [],
   "source": [
    "deck = driver.find_elements_by_class_name('guide-meta__deck__column.name.mr-3')\n",
    "champion = soup.find_all('div', {'class' : 'guide-meta__deck__column champions mr-2'})"
   ]
  },
  {
   "cell_type": "code",
   "execution_count": 70,
   "metadata": {},
   "outputs": [],
   "source": [
    "decks,  champions = [], []\n",
    "for i,k in enumerate(deck):\n",
    "    synergy = deck[i].text.split('\\n')[0]\n",
    "    champ = soup.find_all('div', {'class' : 'guide-meta__deck__column champions mr-2'})[i].find_all('span', {'class':\"name\"})\n",
    "    champs = []\n",
    "    for c in champ:\n",
    "        cham = c.text\n",
    "        champs.append(cham)\n",
    "    decks.append(synergy)\n",
    "    champions.append(champs)"
   ]
  },
  {
   "cell_type": "code",
   "execution_count": 75,
   "metadata": {},
   "outputs": [
    {
     "output_type": "execute_result",
     "data": {
      "text/plain": [
       "             덱                                               챔피언\n",
       "0        망각 베인            [베인, 빅토르, 쓰레쉬, 헤카림, 라이즈, 렐, 비에고, 킨드레드]\n",
       "1   재생술사 악의 여단      [리산드라, 블라디미르, 르블랑, 소라카, 녹턴, 모르가나, 아이번, 볼리베어]\n",
       "2   빛의 인도자 카르마         [그라가스, 카직스, 소라카, 니달리, 아이번, 카르마, 가렌, 볼리베어]\n",
       "3   어둠의 인도자 아펠   [노틸러스, 모르가나, 다이애나, 렐, 모데카이저, 아펠리오스, 다리우스, 킨드레드]\n",
       "4     악의여단 암살자      [리산드라, 르블랑, 녹턴, 모르가나, 카타리나, 다이애나, 아이번, 볼리베어]\n",
       "5       망령 암살자        [카직스, 르블랑, 녹턴, 카타리나, 다이애나, 아이번, 볼리베어, 비에고]\n",
       "6      신비술사 베인    [베인, 쓰레쉬, 헤카림, 룰루, 모르가나, 카타리나, 라이즈, 비에고, 킨드레드]\n",
       "7    신비의 기사 케일              [노틸러스, 쓰레쉬, 럭스, 렐, 타릭, 가렌, 케일, 킨드레드]\n",
       "8       고벨류 악동     [뽀삐, 클레드, 케넨, 룰루, 아이번, 볼리베어, 킨드레드, 티모, 하이머딩거]\n",
       "9       척후병 철갑       [케넨, 노틸러스, 트런들, 니달리, 판테온, 렐, 잭스, 다리우스, 비에고]\n",
       "10   척후병 용 사냥꾼         [트런들, 케넨, 리 신, 판테온, 다이애나, 모데카이저, 잭스, 비에고]\n",
       "11    군단 용 사냥꾼  [아트록스, 트런들, 리븐, 야스오, 판테온, 다이애나, 드레이븐, 모데카이저, 케일]\n",
       "12    8 빛의 인도자     [카직스, 그라가스, 소라카, 니달리, 리븐, 아이번, 카르마, 가렌, 볼리베어]\n",
       "13        9 망각     [워윅, 베인, 빅토르, 쓰레쉬, 헤카림, 카타리나, 드레이븐, 라이즈, 비에고]\n",
       "14        8 군단      [칼리스타, 아트록스, 리븐, 야스오, 다이애나, 드레이븐, 모데카이저, 케일]"
      ],
      "text/html": "<div>\n<style scoped>\n    .dataframe tbody tr th:only-of-type {\n        vertical-align: middle;\n    }\n\n    .dataframe tbody tr th {\n        vertical-align: top;\n    }\n\n    .dataframe thead th {\n        text-align: right;\n    }\n</style>\n<table border=\"1\" class=\"dataframe\">\n  <thead>\n    <tr style=\"text-align: right;\">\n      <th></th>\n      <th>덱</th>\n      <th>챔피언</th>\n    </tr>\n  </thead>\n  <tbody>\n    <tr>\n      <th>0</th>\n      <td>망각 베인</td>\n      <td>[베인, 빅토르, 쓰레쉬, 헤카림, 라이즈, 렐, 비에고, 킨드레드]</td>\n    </tr>\n    <tr>\n      <th>1</th>\n      <td>재생술사 악의 여단</td>\n      <td>[리산드라, 블라디미르, 르블랑, 소라카, 녹턴, 모르가나, 아이번, 볼리베어]</td>\n    </tr>\n    <tr>\n      <th>2</th>\n      <td>빛의 인도자 카르마</td>\n      <td>[그라가스, 카직스, 소라카, 니달리, 아이번, 카르마, 가렌, 볼리베어]</td>\n    </tr>\n    <tr>\n      <th>3</th>\n      <td>어둠의 인도자 아펠</td>\n      <td>[노틸러스, 모르가나, 다이애나, 렐, 모데카이저, 아펠리오스, 다리우스, 킨드레드]</td>\n    </tr>\n    <tr>\n      <th>4</th>\n      <td>악의여단 암살자</td>\n      <td>[리산드라, 르블랑, 녹턴, 모르가나, 카타리나, 다이애나, 아이번, 볼리베어]</td>\n    </tr>\n    <tr>\n      <th>5</th>\n      <td>망령 암살자</td>\n      <td>[카직스, 르블랑, 녹턴, 카타리나, 다이애나, 아이번, 볼리베어, 비에고]</td>\n    </tr>\n    <tr>\n      <th>6</th>\n      <td>신비술사 베인</td>\n      <td>[베인, 쓰레쉬, 헤카림, 룰루, 모르가나, 카타리나, 라이즈, 비에고, 킨드레드]</td>\n    </tr>\n    <tr>\n      <th>7</th>\n      <td>신비의 기사 케일</td>\n      <td>[노틸러스, 쓰레쉬, 럭스, 렐, 타릭, 가렌, 케일, 킨드레드]</td>\n    </tr>\n    <tr>\n      <th>8</th>\n      <td>고벨류 악동</td>\n      <td>[뽀삐, 클레드, 케넨, 룰루, 아이번, 볼리베어, 킨드레드, 티모, 하이머딩거]</td>\n    </tr>\n    <tr>\n      <th>9</th>\n      <td>척후병 철갑</td>\n      <td>[케넨, 노틸러스, 트런들, 니달리, 판테온, 렐, 잭스, 다리우스, 비에고]</td>\n    </tr>\n    <tr>\n      <th>10</th>\n      <td>척후병 용 사냥꾼</td>\n      <td>[트런들, 케넨, 리 신, 판테온, 다이애나, 모데카이저, 잭스, 비에고]</td>\n    </tr>\n    <tr>\n      <th>11</th>\n      <td>군단 용 사냥꾼</td>\n      <td>[아트록스, 트런들, 리븐, 야스오, 판테온, 다이애나, 드레이븐, 모데카이저, 케일]</td>\n    </tr>\n    <tr>\n      <th>12</th>\n      <td>8 빛의 인도자</td>\n      <td>[카직스, 그라가스, 소라카, 니달리, 리븐, 아이번, 카르마, 가렌, 볼리베어]</td>\n    </tr>\n    <tr>\n      <th>13</th>\n      <td>9 망각</td>\n      <td>[워윅, 베인, 빅토르, 쓰레쉬, 헤카림, 카타리나, 드레이븐, 라이즈, 비에고]</td>\n    </tr>\n    <tr>\n      <th>14</th>\n      <td>8 군단</td>\n      <td>[칼리스타, 아트록스, 리븐, 야스오, 다이애나, 드레이븐, 모데카이저, 케일]</td>\n    </tr>\n  </tbody>\n</table>\n</div>"
     },
     "metadata": {},
     "execution_count": 75
    }
   ],
   "source": [
    "df = pd.DataFrame({\n",
    "    '덱' : decks,\n",
    "    '챔피언' : champions\n",
    "})\n",
    "df"
   ]
  },
  {
   "cell_type": "code",
   "execution_count": null,
   "metadata": {},
   "outputs": [],
   "source": []
  }
 ]
}