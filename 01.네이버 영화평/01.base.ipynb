{
 "metadata": {
  "language_info": {
   "codemirror_mode": {
    "name": "ipython",
    "version": 3
   },
   "file_extension": ".py",
   "mimetype": "text/x-python",
   "name": "python",
   "nbconvert_exporter": "python",
   "pygments_lexer": "ipython3",
   "version": "3.8.5"
  },
  "orig_nbformat": 2,
  "kernelspec": {
   "name": "python385jvsc74a57bd0aa83fc8303128615b1abe691064b0065fe178ce594ae448a9e882ceda0a279cb",
   "display_name": "Python 3.8.5 64-bit ('base': conda)"
  }
 },
 "nbformat": 4,
 "nbformat_minor": 2,
 "cells": [
  {
   "source": [
    "# 네이버 영화평 크롤링"
   ],
   "cell_type": "markdown",
   "metadata": {}
  },
  {
   "cell_type": "code",
   "execution_count": 1,
   "metadata": {},
   "outputs": [],
   "source": [
    "from bs4 import BeautifulSoup\n",
    "import urllib.request\n",
    "import pandas as pd\n",
    "import re"
   ]
  },
  {
   "cell_type": "code",
   "execution_count": 2,
   "metadata": {},
   "outputs": [],
   "source": [
    "import requests\n",
    "headers = {'User-Agent':'Mozilla/5.0 (Windows NT 6.3; Win64; x64) AppleWebKit/537.36 (KHTML, like Gecko) Chrome/63.0.3239.132 Safari/537.36'}\n",
    "url ='https://movie.naver.com/movie/running/current.nhn' # 네이버 현재 상영중인 영화\n",
    "html = requests.get(url, headers = headers).text"
   ]
  },
  {
   "cell_type": "code",
   "execution_count": 3,
   "metadata": {},
   "outputs": [],
   "source": [
    "soup = BeautifulSoup(html, 'html.parser')"
   ]
  },
  {
   "cell_type": "code",
   "execution_count": 4,
   "metadata": {},
   "outputs": [
    {
     "output_type": "execute_result",
     "data": {
      "text/plain": [
       "130"
      ]
     },
     "metadata": {},
     "execution_count": 4
    }
   ],
   "source": [
    "len(soup.select('.tit')) #상영중인 영화 갯수"
   ]
  },
  {
   "source": [
    "### 상영중인 영화 샘플"
   ],
   "cell_type": "markdown",
   "metadata": {}
  },
  {
   "cell_type": "code",
   "execution_count": 5,
   "metadata": {},
   "outputs": [
    {
     "output_type": "execute_result",
     "data": {
      "text/plain": [
       "'비와 당신의 이야기'"
      ]
     },
     "metadata": {},
     "execution_count": 5
    }
   ],
   "source": [
    "# 제목\n",
    "a = soup.select('.tit')[0].get_text().split('\\n')[2]\n",
    "a"
   ]
  },
  {
   "cell_type": "code",
   "execution_count": 6,
   "metadata": {},
   "outputs": [
    {
     "output_type": "execute_result",
     "data": {
      "text/plain": [
       "[<a href=\"/movie/sdb/browsing/bmovie.nhn?genre=1\">드라마</a>,\n",
       " <a href=\"/movie/sdb/browsing/bmovie.nhn?genre=5\">멜로/로맨스</a>]"
      ]
     },
     "metadata": {},
     "execution_count": 6
    }
   ],
   "source": [
    "# 장르\n",
    "soup.select('.link_txt')[0].find_all('a')"
   ]
  },
  {
   "cell_type": "code",
   "execution_count": 7,
   "metadata": {},
   "outputs": [
    {
     "output_type": "execute_result",
     "data": {
      "text/plain": [
       "('드라마', '멜로/로맨스')"
      ]
     },
     "metadata": {},
     "execution_count": 7
    }
   ],
   "source": [
    "b = soup.select('.link_txt')[0].find_all('a')[0].get_text(),soup.select('.link_txt')[0].find_all('a')[1].get_text()\n",
    "b"
   ]
  },
  {
   "cell_type": "code",
   "execution_count": 8,
   "metadata": {},
   "outputs": [],
   "source": [
    "s = soup.select('.info_txt1')[0].find('dd').get_text()"
   ]
  },
  {
   "cell_type": "code",
   "execution_count": 9,
   "metadata": {},
   "outputs": [],
   "source": [
    "hangle = re.compile('[^ / | ㄱ-ㅣ가-힣 0-9 .]+') "
   ]
  },
  {
   "cell_type": "code",
   "execution_count": 10,
   "metadata": {},
   "outputs": [
    {
     "output_type": "execute_result",
     "data": {
      "text/plain": [
       "'드라마 멜로/로맨스|117분|2021.04.28 개봉'"
      ]
     },
     "metadata": {},
     "execution_count": 10
    }
   ],
   "source": [
    "c = hangle.sub('', s)\n",
    "c"
   ]
  },
  {
   "cell_type": "code",
   "execution_count": 11,
   "metadata": {},
   "outputs": [
    {
     "output_type": "execute_result",
     "data": {
      "text/plain": [
       "'조진모'"
      ]
     },
     "metadata": {},
     "execution_count": 11
    }
   ],
   "source": [
    "d = soup.select('.info_txt1')[0].select('.link_txt')[1].find('a').get_text()\n",
    "d"
   ]
  },
  {
   "cell_type": "code",
   "execution_count": 12,
   "metadata": {},
   "outputs": [
    {
     "output_type": "execute_result",
     "data": {
      "text/plain": [
       "['강하늘', '천우희']"
      ]
     },
     "metadata": {},
     "execution_count": 12
    }
   ],
   "source": [
    "# 출연자\n",
    "f = []\n",
    "num = len(soup.select('.info_txt1')[0].select('.link_txt')[2].find_all('a'))\n",
    "for i in range(num):\n",
    "    actor = soup.select('.info_txt1')[0].select('.link_txt')[2].find_all('a')[i].get_text()\n",
    "    f.append(actor)\n",
    "f"
   ]
  },
  {
   "cell_type": "code",
   "execution_count": 13,
   "metadata": {},
   "outputs": [],
   "source": [
    "# 별점\n",
    "g = soup.select('.num')[0].get_text()"
   ]
  },
  {
   "cell_type": "code",
   "execution_count": 14,
   "metadata": {},
   "outputs": [
    {
     "output_type": "stream",
     "name": "stdout",
     "text": [
      "제목 :  비와 당신의 이야기\n개요 :  드라마 멜로/로맨스|117분|2021.04.28 개봉\n감독 :  조진모\n출연자 :  ['강하늘', '천우희']\n별점 :  9.07\n"
     ]
    }
   ],
   "source": [
    "print('제목 : ', a)\n",
    "print('개요 : ', c)\n",
    "print('감독 : ', d)\n",
    "print('출연자 : ', f)\n",
    "print('별점 : ', g)"
   ]
  },
  {
   "cell_type": "code",
   "execution_count": null,
   "metadata": {},
   "outputs": [],
   "source": []
  }
 ]
}