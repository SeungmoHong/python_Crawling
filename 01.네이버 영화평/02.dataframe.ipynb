{
 "metadata": {
  "language_info": {
   "codemirror_mode": {
    "name": "ipython",
    "version": 3
   },
   "file_extension": ".py",
   "mimetype": "text/x-python",
   "name": "python",
   "nbconvert_exporter": "python",
   "pygments_lexer": "ipython3",
   "version": "3.8.5"
  },
  "orig_nbformat": 2,
  "kernelspec": {
   "name": "python385jvsc74a57bd0aa83fc8303128615b1abe691064b0065fe178ce594ae448a9e882ceda0a279cb",
   "display_name": "Python 3.8.5 64-bit ('base': conda)"
  }
 },
 "nbformat": 4,
 "nbformat_minor": 2,
 "cells": [
  {
   "source": [
    "# 네이버 영화 크롤링 데이터 프레임으로 정리"
   ],
   "cell_type": "markdown",
   "metadata": {}
  },
  {
   "cell_type": "code",
   "execution_count": 1,
   "metadata": {},
   "outputs": [],
   "source": [
    "from bs4 import BeautifulSoup\n",
    "import urllib.request\n",
    "import pandas as pd\n",
    "import re"
   ]
  },
  {
   "cell_type": "code",
   "execution_count": 2,
   "metadata": {},
   "outputs": [],
   "source": [
    "import requests\n",
    "headers = {'User-Agent':'Mozilla/5.0 (Windows NT 6.3; Win64; x64) AppleWebKit/537.36 (KHTML, like Gecko) Chrome/63.0.3239.132 Safari/537.36'}\n",
    "url ='https://movie.naver.com/movie/running/current.nhn' # 네이버 현재 상영중인 영화\n",
    "html = requests.get(url, headers = headers).text"
   ]
  },
  {
   "cell_type": "code",
   "execution_count": 3,
   "metadata": {},
   "outputs": [],
   "source": [
    "soup = BeautifulSoup(html, 'html.parser')"
   ]
  },
  {
   "cell_type": "code",
   "execution_count": 4,
   "metadata": {},
   "outputs": [],
   "source": [
    "a,b,c,d,e = [],[],[],[],[]"
   ]
  },
  {
   "cell_type": "code",
   "execution_count": 5,
   "metadata": {},
   "outputs": [],
   "source": [
    "movies_num = len(soup.select('.tit')) #상영중인 영화 갯수\n",
    "hangle = re.compile('[^ / | ㄱ-ㅣ가-힣 0-9 .]+') # 한글 + | + 숫자 + . 빼고 다 제외\n",
    "for i in range(movies_num):\n",
    "    title = soup.select('.tit')[i].get_text().split('\\n')[2] # 제목\n",
    "    s = soup.select('.info_txt1')[i].find('dd').get_text() # 개요\n",
    "    outline = hangle.sub('', s)\n",
    "    director = soup.select('.info_txt1')[i].select('.link_txt')[1].find('a').get_text() # 감독\n",
    "    actors = []\n",
    "    try:\n",
    "        num = len(soup.select('.info_txt1')[i].select('.link_txt')[2].find_all('a'))\n",
    "        for n in range(num):\n",
    "            actor = soup.select('.info_txt1')[i].select('.link_txt')[2].find_all('a')[n].get_text() # 출연자\n",
    "            actors.append(actor)\n",
    "        \n",
    "        d.append(','.join(actors))\n",
    "    except:\n",
    "        d.append('')\n",
    "    point = soup.select('.num')[0].get_text()\n",
    "\n",
    "    a.append(title)\n",
    "    b.append(outline)\n",
    "    c.append(director)\n",
    "    e.append(point)"
   ]
  },
  {
   "cell_type": "code",
   "execution_count": 6,
   "metadata": {},
   "outputs": [],
   "source": [
    "df = pd.DataFrame({\n",
    "    '제목' : a,\n",
    "    '개요' : b,\n",
    "    '감독' : c,\n",
    "    '출연자' : d,\n",
    "    '별점' : e\n",
    "})"
   ]
  },
  {
   "cell_type": "code",
   "execution_count": 8,
   "metadata": {},
   "outputs": [
    {
     "output_type": "execute_result",
     "data": {
      "text/plain": [
       "             제목                                 개요          감독  \\\n",
       "0    비와 당신의 이야기      드라마 멜로/로맨스|117분|2021.04.28 개봉         조진모   \n",
       "1            서복             드라마|114분|2021.04.15 개봉         이용주   \n",
       "2           미나리             드라마|115분|2021.03.03 개봉         정이삭   \n",
       "3         더 스파이             스릴러|112분|2021.04.28 개봉       도미닉 쿡   \n",
       "4         노매드랜드             드라마|108분|2021.04.15 개봉      클로이 자오   \n",
       "..          ...                                ...         ...   \n",
       "125        아티스트  멜로/로맨스 코미디 드라마|100분|2012.02.16 개봉  미셀 하자나비시우스   \n",
       "126         우리들              드라마|94분|2016.06.16 개봉         윤가은   \n",
       "127         우리집           드라마 가족|92분|2019.08.22 개봉         윤가은   \n",
       "128          테넷             액션 |150분|2020.08.26 개봉    크리스토퍼 놀란   \n",
       "129         파이터             드라마|104분|2021.03.18 개봉         윤재호   \n",
       "\n",
       "                                     출연자    별점  \n",
       "0                             [강하늘, 천우희]  8.96  \n",
       "1                         [공유, 박보검, 조우진]  8.96  \n",
       "2    [스티븐 연, 한예리, 윤여정, 앨런 김, 노엘 조, 윌 패튼]  8.96  \n",
       "3                            [베네딕트 컴버배치]  8.96  \n",
       "4                            [프란시스 맥도맨드]  8.96  \n",
       "..                                   ...   ...  \n",
       "125     [장 뒤자르댕, 베레니스 베조, 존 굿맨, 제임스 크롬웰]  8.96  \n",
       "126                 [최수인, 설혜인, 이서연, 강민준]  8.96  \n",
       "127                      [김나연, 김시아, 주예림]  8.96  \n",
       "128     [존 데이비드 워싱턴, 로버트 패틴슨, 엘리자베스 데비키]  8.96  \n",
       "129                      [임성미, 백서빈, 오광록]  8.96  \n",
       "\n",
       "[130 rows x 5 columns]"
      ],
      "text/html": "<div>\n<style scoped>\n    .dataframe tbody tr th:only-of-type {\n        vertical-align: middle;\n    }\n\n    .dataframe tbody tr th {\n        vertical-align: top;\n    }\n\n    .dataframe thead th {\n        text-align: right;\n    }\n</style>\n<table border=\"1\" class=\"dataframe\">\n  <thead>\n    <tr style=\"text-align: right;\">\n      <th></th>\n      <th>제목</th>\n      <th>개요</th>\n      <th>감독</th>\n      <th>출연자</th>\n      <th>별점</th>\n    </tr>\n  </thead>\n  <tbody>\n    <tr>\n      <th>0</th>\n      <td>비와 당신의 이야기</td>\n      <td>드라마 멜로/로맨스|117분|2021.04.28 개봉</td>\n      <td>조진모</td>\n      <td>[강하늘, 천우희]</td>\n      <td>8.96</td>\n    </tr>\n    <tr>\n      <th>1</th>\n      <td>서복</td>\n      <td>드라마|114분|2021.04.15 개봉</td>\n      <td>이용주</td>\n      <td>[공유, 박보검, 조우진]</td>\n      <td>8.96</td>\n    </tr>\n    <tr>\n      <th>2</th>\n      <td>미나리</td>\n      <td>드라마|115분|2021.03.03 개봉</td>\n      <td>정이삭</td>\n      <td>[스티븐 연, 한예리, 윤여정, 앨런 김, 노엘 조, 윌 패튼]</td>\n      <td>8.96</td>\n    </tr>\n    <tr>\n      <th>3</th>\n      <td>더 스파이</td>\n      <td>스릴러|112분|2021.04.28 개봉</td>\n      <td>도미닉 쿡</td>\n      <td>[베네딕트 컴버배치]</td>\n      <td>8.96</td>\n    </tr>\n    <tr>\n      <th>4</th>\n      <td>노매드랜드</td>\n      <td>드라마|108분|2021.04.15 개봉</td>\n      <td>클로이 자오</td>\n      <td>[프란시스 맥도맨드]</td>\n      <td>8.96</td>\n    </tr>\n    <tr>\n      <th>...</th>\n      <td>...</td>\n      <td>...</td>\n      <td>...</td>\n      <td>...</td>\n      <td>...</td>\n    </tr>\n    <tr>\n      <th>125</th>\n      <td>아티스트</td>\n      <td>멜로/로맨스 코미디 드라마|100분|2012.02.16 개봉</td>\n      <td>미셀 하자나비시우스</td>\n      <td>[장 뒤자르댕, 베레니스 베조, 존 굿맨, 제임스 크롬웰]</td>\n      <td>8.96</td>\n    </tr>\n    <tr>\n      <th>126</th>\n      <td>우리들</td>\n      <td>드라마|94분|2016.06.16 개봉</td>\n      <td>윤가은</td>\n      <td>[최수인, 설혜인, 이서연, 강민준]</td>\n      <td>8.96</td>\n    </tr>\n    <tr>\n      <th>127</th>\n      <td>우리집</td>\n      <td>드라마 가족|92분|2019.08.22 개봉</td>\n      <td>윤가은</td>\n      <td>[김나연, 김시아, 주예림]</td>\n      <td>8.96</td>\n    </tr>\n    <tr>\n      <th>128</th>\n      <td>테넷</td>\n      <td>액션 |150분|2020.08.26 개봉</td>\n      <td>크리스토퍼 놀란</td>\n      <td>[존 데이비드 워싱턴, 로버트 패틴슨, 엘리자베스 데비키]</td>\n      <td>8.96</td>\n    </tr>\n    <tr>\n      <th>129</th>\n      <td>파이터</td>\n      <td>드라마|104분|2021.03.18 개봉</td>\n      <td>윤재호</td>\n      <td>[임성미, 백서빈, 오광록]</td>\n      <td>8.96</td>\n    </tr>\n  </tbody>\n</table>\n<p>130 rows × 5 columns</p>\n</div>"
     },
     "metadata": {},
     "execution_count": 8
    }
   ],
   "source": [
    "df"
   ]
  },
  {
   "cell_type": "code",
   "execution_count": null,
   "metadata": {},
   "outputs": [],
   "source": []
  }
 ]
}