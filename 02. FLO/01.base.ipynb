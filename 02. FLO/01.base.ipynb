{
 "metadata": {
  "language_info": {
   "codemirror_mode": {
    "name": "ipython",
    "version": 3
   },
   "file_extension": ".py",
   "mimetype": "text/x-python",
   "name": "python",
   "nbconvert_exporter": "python",
   "pygments_lexer": "ipython3",
   "version": "3.8.5"
  },
  "orig_nbformat": 2,
  "kernelspec": {
   "name": "python385jvsc74a57bd0c0d5580a4e4b3d156e9f2f74585f52a17152e2e761e06671a15aac4fe32d0ddb",
   "display_name": "Python 3.8.5 64-bit (conda)"
  }
 },
 "nbformat": 4,
 "nbformat_minor": 2,
 "cells": [
  {
   "source": [
    "# FLO 크롤링"
   ],
   "cell_type": "markdown",
   "metadata": {}
  },
  {
   "cell_type": "code",
   "execution_count": 1,
   "metadata": {},
   "outputs": [],
   "source": [
    "# import\n",
    "import time\n",
    "from selenium import webdriver\n",
    "from selenium.webdriver.common.keys import Keys\n",
    "import pandas as pd"
   ]
  },
  {
   "cell_type": "code",
   "execution_count": 2,
   "metadata": {},
   "outputs": [],
   "source": [
    "driver = webdriver.Chrome('../chromedriver')\n",
    "driver.maximize_window()\n",
    "driver.get('https://www.music-flo.com/')\n",
    "time.sleep(1)"
   ]
  },
  {
   "cell_type": "code",
   "execution_count": 3,
   "metadata": {},
   "outputs": [],
   "source": [
    "driver.find_element_by_xpath('//*[@id=\"header\"]/div/nav/ul/li[1]/a').click()\n",
    "time.sleep(2)"
   ]
  },
  {
   "cell_type": "code",
   "execution_count": 5,
   "metadata": {},
   "outputs": [],
   "source": [
    "time.sleep(1)\n",
    "driver.find_element_by_class_name('btn_list_more').click()"
   ]
  },
  {
   "cell_type": "code",
   "execution_count": 6,
   "metadata": {},
   "outputs": [
    {
     "output_type": "execute_result",
     "data": {
      "text/plain": [
       "'1'"
      ]
     },
     "metadata": {},
     "execution_count": 6
    }
   ],
   "source": [
    "driver.find_elements_by_class_name('num')[0].text # Rank"
   ]
  },
  {
   "cell_type": "code",
   "execution_count": 7,
   "metadata": {},
   "outputs": [
    {
     "output_type": "execute_result",
     "data": {
      "text/plain": [
       "\"롤린 (Rollin')\""
      ]
     },
     "metadata": {},
     "execution_count": 7
    }
   ],
   "source": [
    "driver.find_elements_by_class_name('tit')[0].text # Song"
   ]
  },
  {
   "cell_type": "code",
   "execution_count": 8,
   "metadata": {},
   "outputs": [
    {
     "output_type": "execute_result",
     "data": {
      "text/plain": [
       "\"Rollin'\""
      ]
     },
     "metadata": {},
     "execution_count": 8
    }
   ],
   "source": [
    "driver.find_elements_by_class_name('album')[0].text # Album"
   ]
  },
  {
   "cell_type": "code",
   "execution_count": 9,
   "metadata": {},
   "outputs": [
    {
     "output_type": "execute_result",
     "data": {
      "text/plain": [
       "'브레이브걸스'"
      ]
     },
     "metadata": {},
     "execution_count": 9
    }
   ],
   "source": [
    "driver.find_elements_by_class_name('artist_link')[0].text # Singer"
   ]
  },
  {
   "source": [
    "### DataFrame"
   ],
   "cell_type": "markdown",
   "metadata": {}
  },
  {
   "cell_type": "code",
   "execution_count": 10,
   "metadata": {},
   "outputs": [],
   "source": [
    "ranks, songs, albums ,singers =[], [], [], []\n",
    "for i in range(100):\n",
    "    rank = driver.find_elements_by_class_name('num')[i].text # Rank\n",
    "    song = driver.find_elements_by_class_name('tit')[i].text # Song\n",
    "    album = driver.find_elements_by_class_name('album')[i].text # Album\n",
    "    singer = driver.find_elements_by_class_name('artist')[i].text # Singer\n",
    "    ranks.append(rank)\n",
    "    songs.append(song)\n",
    "    albums.append(album)\n",
    "    singers.append(singer)"
   ]
  },
  {
   "cell_type": "code",
   "execution_count": 11,
   "metadata": {},
   "outputs": [],
   "source": [
    "df = pd.DataFrame({\n",
    "    'Rank' : ranks,\n",
    "    'Song' : songs,\n",
    "    'Album' : albums,\n",
    "    'Singer' : singers\n",
    "})"
   ]
  },
  {
   "cell_type": "code",
   "execution_count": 12,
   "metadata": {},
   "outputs": [
    {
     "output_type": "execute_result",
     "data": {
      "text/plain": [
       "   Rank                                               Song  \\\n",
       "0     1                                       롤린 (Rollin')   \n",
       "1     2                                                라일락   \n",
       "2     3                                     운전만해 (We Ride)   \n",
       "3     4  Peaches (feat. Daniel Caesar, Giveon) (Explici...   \n",
       "4     5                                          Celebrity   \n",
       "..  ...                                                ...   \n",
       "95   96                                    I CAN’T STOP ME   \n",
       "96   97                                    빈 컵 (Empty Cup)   \n",
       "97   98                                    Don't Start Now   \n",
       "98   99                                         계단말고 엘리베이터   \n",
       "99  100                          parachute (Explicit Ver.)   \n",
       "\n",
       "                     Album         Singer  \n",
       "0                  Rollin'           아티스트  \n",
       "1     IU 5th Album 'LILAC'         브레이브걸스  \n",
       "2                  We Ride       아이유 (IU)  \n",
       "3                  Justice         브레이브걸스  \n",
       "4     IU 5th Album 'LILAC'  Justin Bieber  \n",
       "..                     ...            ...  \n",
       "95          Eyes wide open     ASH ISLAND  \n",
       "96    IU 5th Album 'LILAC'   TWICE (트와이스)  \n",
       "97        Future Nostalgia       아이유 (IU)  \n",
       "98              계단말고 엘리베이터       Dua Lipa  \n",
       "99  love + everything else            임영웅  \n",
       "\n",
       "[100 rows x 4 columns]"
      ],
      "text/html": "<div>\n<style scoped>\n    .dataframe tbody tr th:only-of-type {\n        vertical-align: middle;\n    }\n\n    .dataframe tbody tr th {\n        vertical-align: top;\n    }\n\n    .dataframe thead th {\n        text-align: right;\n    }\n</style>\n<table border=\"1\" class=\"dataframe\">\n  <thead>\n    <tr style=\"text-align: right;\">\n      <th></th>\n      <th>Rank</th>\n      <th>Song</th>\n      <th>Album</th>\n      <th>Singer</th>\n    </tr>\n  </thead>\n  <tbody>\n    <tr>\n      <th>0</th>\n      <td>1</td>\n      <td>롤린 (Rollin')</td>\n      <td>Rollin'</td>\n      <td>아티스트</td>\n    </tr>\n    <tr>\n      <th>1</th>\n      <td>2</td>\n      <td>라일락</td>\n      <td>IU 5th Album 'LILAC'</td>\n      <td>브레이브걸스</td>\n    </tr>\n    <tr>\n      <th>2</th>\n      <td>3</td>\n      <td>운전만해 (We Ride)</td>\n      <td>We Ride</td>\n      <td>아이유 (IU)</td>\n    </tr>\n    <tr>\n      <th>3</th>\n      <td>4</td>\n      <td>Peaches (feat. Daniel Caesar, Giveon) (Explici...</td>\n      <td>Justice</td>\n      <td>브레이브걸스</td>\n    </tr>\n    <tr>\n      <th>4</th>\n      <td>5</td>\n      <td>Celebrity</td>\n      <td>IU 5th Album 'LILAC'</td>\n      <td>Justin Bieber</td>\n    </tr>\n    <tr>\n      <th>...</th>\n      <td>...</td>\n      <td>...</td>\n      <td>...</td>\n      <td>...</td>\n    </tr>\n    <tr>\n      <th>95</th>\n      <td>96</td>\n      <td>I CAN’T STOP ME</td>\n      <td>Eyes wide open</td>\n      <td>ASH ISLAND</td>\n    </tr>\n    <tr>\n      <th>96</th>\n      <td>97</td>\n      <td>빈 컵 (Empty Cup)</td>\n      <td>IU 5th Album 'LILAC'</td>\n      <td>TWICE (트와이스)</td>\n    </tr>\n    <tr>\n      <th>97</th>\n      <td>98</td>\n      <td>Don't Start Now</td>\n      <td>Future Nostalgia</td>\n      <td>아이유 (IU)</td>\n    </tr>\n    <tr>\n      <th>98</th>\n      <td>99</td>\n      <td>계단말고 엘리베이터</td>\n      <td>계단말고 엘리베이터</td>\n      <td>Dua Lipa</td>\n    </tr>\n    <tr>\n      <th>99</th>\n      <td>100</td>\n      <td>parachute (Explicit Ver.)</td>\n      <td>love + everything else</td>\n      <td>임영웅</td>\n    </tr>\n  </tbody>\n</table>\n<p>100 rows × 4 columns</p>\n</div>"
     },
     "metadata": {},
     "execution_count": 12
    }
   ],
   "source": [
    "df"
   ]
  },
  {
   "cell_type": "code",
   "execution_count": 13,
   "metadata": {},
   "outputs": [],
   "source": [
    "df.to_csv('./data/FLO Top100.csv') "
   ]
  },
  {
   "cell_type": "code",
   "execution_count": null,
   "metadata": {},
   "outputs": [],
   "source": []
  }
 ]
}